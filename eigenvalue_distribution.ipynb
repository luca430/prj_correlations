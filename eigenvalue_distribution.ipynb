{
 "cells": [
  {
   "cell_type": "code",
   "execution_count": 6,
   "metadata": {},
   "outputs": [],
   "source": [
    "import os\n",
    "import numpy as np\n",
    "import pandas as pd\n",
    "from sklearn.neighbors import KernelDensity"
   ]
  },
  {
   "cell_type": "code",
   "execution_count": 12,
   "metadata": {},
   "outputs": [],
   "source": [
    "\n",
    "def mpPDF(var, q, pts):\n",
    "    \"\"\"\n",
    "    Creates a Marchenko-Pastur Probability Density Function\n",
    "    Args:\n",
    "        var (float): Variance\n",
    "        q (float): T/N where T is the number of rows and N the number of columns\n",
    "        pts (int): Number of points used to construct the PDF\n",
    "    Returns:\n",
    "        pd.Series: Marchenko-Pastur PDF\n",
    "    \"\"\"\n",
    "    # Marchenko-Pastur pdf\n",
    "    # q=T/N\n",
    "    # Adjusting code to work with 1 dimension arrays\n",
    "    if isinstance(var, np.ndarray):\n",
    "        if var.shape == (1,):\n",
    "            var = var[0]\n",
    "    eMin, eMax = var * (1 - (1. / q) ** .5) ** 2, var * (1 + (1. / q) ** .5) ** 2\n",
    "    eVal = np.linspace(eMin, eMax, pts)\n",
    "    pdf = q / (2 * np.pi * var * eVal) * ((eMax - eVal) * (eVal - eMin)) ** .5\n",
    "    pdf = pd.Series(pdf, index=eVal)\n",
    "    return pdf\n",
    "\n",
    "def fitKDE(obs, bWidth=.25, kernel='gaussian', x=None):\n",
    "    \"\"\"\n",
    "    Fit kernel to a series of obs, and derive the prob of obs x is the array of values\n",
    "        on which the fit KDE will be evaluated. It is the empirical PDF\n",
    "    Args:\n",
    "        obs (np.ndarray): observations to fit. Commonly is the diagonal of Eigenvalues\n",
    "        bWidth (float): The bandwidth of the kernel. Default is .25\n",
    "        kernel (str): The kernel to use. Valid kernels are [‘gaussian’|’tophat’|\n",
    "            ’epanechnikov’|’exponential’|’linear’|’cosine’] Default is ‘gaussian’.\n",
    "        x (np.ndarray): x is the array of values on which the fit KDE will be evaluated\n",
    "    Returns:\n",
    "        pd.Series: Empirical PDF\n",
    "    \"\"\"\n",
    "    if len(obs.shape) == 1:\n",
    "        obs = obs.reshape(-1, 1)\n",
    "    kde = KernelDensity(kernel=kernel, bandwidth=bWidth).fit(obs)\n",
    "    if x is None:\n",
    "        x = np.unique(obs).reshape(-1, 1)\n",
    "    if len(x.shape) == 1:\n",
    "        x = x.reshape(-1, 1)\n",
    "    logProb = kde.score_samples(x)  # log(density)\n",
    "    pdf = pd.Series(np.exp(logProb), index=x.flatten())\n",
    "    return pdf\n",
    "\n",
    "def getPCA(matrix):\n",
    "    \"\"\"\n",
    "    Gets the Eigenvalues and Eigenvector values from a Hermitian Matrix\n",
    "    Args:\n",
    "        matrix pd.DataFrame: Correlation matrix\n",
    "    Returns:\n",
    "         (tuple): tuple containing:\n",
    "            np.ndarray: Eigenvalues of correlation matrix\n",
    "            np.ndarray: Eigenvectors of correlation matrix\n",
    "    \"\"\"\n",
    "    # Get eVal,eVec from a Hermitian matrix\n",
    "    eVal, eVec = np.linalg.eigh(matrix)\n",
    "    indices = eVal.argsort()[::-1]  # arguments for sorting eVal desc\n",
    "    eVal, eVec = eVal[indices], eVec[:, indices]\n",
    "    eVal = np.diagflat(eVal)\n",
    "    return eVal, eVec"
   ]
  },
  {
   "cell_type": "code",
   "execution_count": 20,
   "metadata": {},
   "outputs": [],
   "source": [
    "corr_path = \"test_folder/corr_matrix\" #set folder where correlation matrices are found\n",
    "file_list = []\n",
    "\n",
    "for file_name in os.listdir(corr_path):\n",
    "    file_list.append(file_name)\n",
    "    \n",
    "x = np.loadtxt(os.path.join(corr_path,file_list[0]), delimiter=\",\")\n",
    "eVal0, eVec0 = getPCA(x)\n"
   ]
  },
  {
   "cell_type": "code",
   "execution_count": 22,
   "metadata": {},
   "outputs": [
    {
     "name": "stderr",
     "output_type": "stream",
     "text": [
      "C:\\Users\\User\\AppData\\Local\\Temp\\ipykernel_8420\\3553035729.py:19: RuntimeWarning: divide by zero encountered in divide\n",
      "  pdf = q / (2 * np.pi * var * eVal) * ((eMax - eVal) * (eVal - eMin)) ** .5\n",
      "C:\\Users\\User\\AppData\\Local\\Temp\\ipykernel_8420\\3553035729.py:19: RuntimeWarning: invalid value encountered in multiply\n",
      "  pdf = q / (2 * np.pi * var * eVal) * ((eMax - eVal) * (eVal - eMin)) ** .5\n"
     ]
    },
    {
     "data": {
      "text/plain": [
       "<matplotlib.legend.Legend at 0x28eebde8850>"
      ]
     },
     "execution_count": 22,
     "metadata": {},
     "output_type": "execute_result"
    },
    {
     "data": {
      "image/png": "[encoded data removed]",
      "text/plain": [
       "<Figure size 640x480 with 1 Axes>"
      ]
     },
     "metadata": {},
     "output_type": "display_data"
    }
   ],
   "source": [
    "pdf0 = mpPDF(1., q=x.shape[0]/float(x.shape[1]), pts=1000)\n",
    "# Empirical pdf\n",
    "pdf1= fitKDE(np.diag(eVal0), bWidth=0.01)\n",
    "\n",
    "# Plotting results\n",
    "ax = pdf0.plot(title=\"Marchenko-Pastur Theorem\", label=\"Marchenko-Pastur\", color=\"deepskyblue\")\n",
    "pdf1.plot(label=\"Empirical Value\", color=\"mediumspringgreen\")\n",
    "ax.set(xlabel=\"λ\", ylabel=\"prob[λ]\", xlim=(-1,12))\n",
    "ax.legend(loc=\"upper right\")"
   ]
  },
  {
   "cell_type": "code",
   "execution_count": null,
   "metadata": {},
   "outputs": [],
   "source": []
  }
 ],
 "metadata": {
  "kernelspec": {
   "display_name": "Python 3",
   "language": "python",
   "name": "python3"
  },
  "language_info": {
   "codemirror_mode": {
    "name": "ipython",
    "version": 3
   },
   "file_extension": ".py",
   "mimetype": "text/x-python",
   "name": "python",
   "nbconvert_exporter": "python",
   "pygments_lexer": "ipython3",
   "version": "3.10.11"
  }
 },
 "nbformat": 4,
 "nbformat_minor": 2
}
